{
 "cells": [
  {
   "cell_type": "code",
   "execution_count": 3,
   "id": "f2955ebe",
   "metadata": {},
   "outputs": [
    {
     "name": "stdout",
     "output_type": "stream",
     "text": [
      "새로만든파일 2번째임!!\n"
     ]
    }
   ],
   "source": [
    "print(\"새로만든파일 2번째임!!\")"
   ]
  },
  {
   "cell_type": "code",
   "execution_count": 1,
   "id": "29f5d44d",
   "metadata": {},
   "outputs": [
    {
     "name": "stdout",
     "output_type": "stream",
     "text": [
      "Hello~~~~~\n"
     ]
    }
   ],
   "source": [
    "print(\"Hello~~~~~\")"
   ]
  }
 ],
 "metadata": {
  "kernelspec": {
   "display_name": "Python 3",
   "language": "python",
   "name": "python3"
  },
  "language_info": {
   "codemirror_mode": {
    "name": "ipython",
    "version": 3
   },
   "file_extension": ".py",
   "mimetype": "text/x-python",
   "name": "python",
   "nbconvert_exporter": "python",
   "pygments_lexer": "ipython3",
   "version": "3.12.1"
  }
 },
 "nbformat": 4,
 "nbformat_minor": 5
}
